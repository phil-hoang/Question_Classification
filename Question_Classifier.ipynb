{
 "cells": [
  {
   "cell_type": "markdown",
   "metadata": {},
   "source": [
    "# Exploration"
   ]
  },
  {
   "cell_type": "code",
   "execution_count": 2,
   "metadata": {},
   "outputs": [
    {
     "ename": "ModuleNotFoundError",
     "evalue": "No module named 'keras'",
     "output_type": "error",
     "traceback": [
      "\u001b[0;31m---------------------------------------------------------------------------\u001b[0m",
      "\u001b[0;31mModuleNotFoundError\u001b[0m                       Traceback (most recent call last)",
      "\u001b[0;32m<ipython-input-2-b390365df273>\u001b[0m in \u001b[0;36m<module>\u001b[0;34m\u001b[0m\n\u001b[1;32m      8\u001b[0m \u001b[0;32mimport\u001b[0m \u001b[0mtorch\u001b[0m\u001b[0;34m\u001b[0m\u001b[0;34m\u001b[0m\u001b[0m\n\u001b[1;32m      9\u001b[0m \u001b[0;34m\u001b[0m\u001b[0m\n\u001b[0;32m---> 10\u001b[0;31m \u001b[0;32mfrom\u001b[0m \u001b[0mkeras\u001b[0m\u001b[0;34m.\u001b[0m\u001b[0mpreprocessing\u001b[0m\u001b[0;34m.\u001b[0m\u001b[0mtext\u001b[0m \u001b[0;32mimport\u001b[0m \u001b[0mTokenizer\u001b[0m\u001b[0;34m\u001b[0m\u001b[0;34m\u001b[0m\u001b[0m\n\u001b[0m\u001b[1;32m     11\u001b[0m \u001b[0;32mfrom\u001b[0m \u001b[0mkeras\u001b[0m\u001b[0;34m.\u001b[0m\u001b[0mpreprocessing\u001b[0m\u001b[0;34m.\u001b[0m\u001b[0msequence\u001b[0m \u001b[0;32mimport\u001b[0m \u001b[0mpad_sequences\u001b[0m\u001b[0;34m\u001b[0m\u001b[0;34m\u001b[0m\u001b[0m\n\u001b[1;32m     12\u001b[0m \u001b[0;32mfrom\u001b[0m \u001b[0msklearn\u001b[0m\u001b[0;34m.\u001b[0m\u001b[0mmodel_selection\u001b[0m \u001b[0;32mimport\u001b[0m \u001b[0mtrain_test_split\u001b[0m\u001b[0;34m\u001b[0m\u001b[0;34m\u001b[0m\u001b[0m\n",
      "\u001b[0;31mModuleNotFoundError\u001b[0m: No module named 'keras'"
     ]
    }
   ],
   "source": [
    "## Imports\n",
    "import numpy as np\n",
    "import pandas as pd\n",
    "import matplotlib.pyplot as plt\n",
    "from IPython.display import clear_output\n",
    "\n",
    "import torch.nn as nn\n",
    "import torch\n",
    "\n",
    "from keras.preprocessing.text import Tokenizer\n",
    "from keras.preprocessing.sequence import pad_sequences\n",
    "from sklearn.model_selection import train_test_split\n",
    "from sklearn.metrics import confusion_matrix\n",
    "from sklearn.metrics import recall_score\n",
    "from sklearn.metrics import precision_score\n",
    "from sklearn.metrics import f1_score\n",
    "\n",
    "import seaborn as sns\n",
    "from torch.autograd import Variable\n",
    "from sklearn.metrics import accuracy_score"
   ]
  },
  {
   "cell_type": "code",
   "execution_count": 2,
   "metadata": {},
   "outputs": [],
   "source": [
    "# Load data\n",
    "path_in = './data/'\n",
    "\n",
    "train = pd.read_csv(path_in + 'train.csv')\n",
    "test = pd.read_csv(path_in + 'test.csv')"
   ]
  },
  {
   "cell_type": "markdown",
   "metadata": {},
   "source": [
    "Data structure: Question ID (qid), question text, target.\n",
    "\n",
    "Target 0 - Negative\n",
    "\n",
    "Target 1 - Positive\n",
    "\n",
    "Training data:\n",
    "\n",
    "Around 1,300,000 samples. Will have to be split up into training, validation and testing."
   ]
  },
  {
   "cell_type": "code",
   "execution_count": 3,
   "metadata": {},
   "outputs": [
    {
     "name": "stdout",
     "output_type": "stream",
     "text": [
      "Number of samples for training: 1306122\n",
      "Ratio positives to total: 0.06\n"
     ]
    }
   ],
   "source": [
    "## Train data\n",
    "print('Number of samples for training: {}\\nRatio positives to total: {:.2f}'.format(len(train), \n",
    "                                                                                len(train.loc[train['target'] == 1])/len(train)))"
   ]
  },
  {
   "cell_type": "code",
   "execution_count": 4,
   "metadata": {},
   "outputs": [
    {
     "name": "stdout",
     "output_type": "stream",
     "text": [
      "Number of samples for training: 50000\n",
      "Ratio positives to total: 6.22%\n"
     ]
    }
   ],
   "source": [
    "# That's a lot of questions, so for faster iterations, I'm going to just use 50,000 training examples\n",
    "train = train.iloc[0:50000]\n",
    "print('Number of samples for training: {}\\nRatio positives to total: {:.2f}%'.format(len(train), \n",
    "                                                                                len(train.loc[train['target'] == 1])/len(train)*100))"
   ]
  },
  {
   "cell_type": "code",
   "execution_count": 5,
   "metadata": {},
   "outputs": [
    {
     "data": {
      "text/plain": [
       "'How did Otto von Guericke used the Magdeburg hemispheres?'"
      ]
     },
     "execution_count": 5,
     "metadata": {},
     "output_type": "execute_result"
    }
   ],
   "source": [
    "## Example sentence\n",
    "train['question_text'][3]"
   ]
  },
  {
   "cell_type": "code",
   "execution_count": 6,
   "metadata": {},
   "outputs": [
    {
     "name": "stdout",
     "output_type": "stream",
     "text": [
      "0\n",
      "000042bf85aa498cd78e\n"
     ]
    }
   ],
   "source": [
    "print(train['target'][3])\n",
    "print(train['qid'][3])"
   ]
  },
  {
   "cell_type": "markdown",
   "metadata": {},
   "source": [
    "# Preprocessing\n",
    "\n",
    "Currently, the questions are all in words that a computer will have problems handling. We have to first process the questions by tokenizing them. For example \"One fish, two fish, red fish blue fish\" -> [1 2 3 2 4 2 5 2]. The 0th token is normally reserved as a blank placeholder."
   ]
  },
  {
   "cell_type": "code",
   "execution_count": 7,
   "metadata": {},
   "outputs": [],
   "source": [
    "# Build the tokenizer dictionary in the tokenizer class\n",
    "tokenizer = Tokenizer()\n",
    "tokenizer.fit_on_texts(train['question_text'])\n",
    "tokenizer.fit_on_texts(test['question_text'])\n",
    "\n",
    "# Split train set into train and validation sets\n",
    "train, validation = train_test_split(train, test_size=0.1, shuffle = True)\n",
    "\n",
    "# Tokenize the questions\n",
    "train_sequences = tokenizer.texts_to_sequences(train['question_text'])\n",
    "validation_sequences = tokenizer.texts_to_sequences(validation['question_text'])\n",
    "test_sequences = tokenizer.texts_to_sequences(test['question_text'])\n",
    "\n",
    "# Save the tokenizer dictionary and the number of words in it\n",
    "word_index = tokenizer.word_index\n",
    "vocab_size = len(word_index)"
   ]
  },
  {
   "cell_type": "code",
   "execution_count": 8,
   "metadata": {},
   "outputs": [
    {
     "name": "stdout",
     "output_type": "stream",
     "text": [
      "63\n",
      "54\n",
      "240\n"
     ]
    }
   ],
   "source": [
    "list_len_train = [len(i) for i in train_sequences]\n",
    "list_len_validation = [len(i) for i in validation_sequences]\n",
    "list_len_test = [len(i) for i in test_sequences]\n",
    "\n",
    "print(max(list_len_train))\n",
    "print(max(list_len_validation))\n",
    "print(max(list_len_test))"
   ]
  },
  {
   "cell_type": "code",
   "execution_count": 9,
   "metadata": {},
   "outputs": [
    {
     "name": "stdout",
     "output_type": "stream",
     "text": [
      "The mean question length in the training set is 12.85 words.\n",
      "The standard deviation of the question length in the training set is 7.04 words.\n"
     ]
    },
    {
     "data": {
      "image/png": "[encoded data removed]",
      "text/plain": [
       "<Figure size 432x288 with 1 Axes>"
      ]
     },
     "metadata": {
      "needs_background": "light"
     },
     "output_type": "display_data"
    }
   ],
   "source": [
    "sns.distplot(list_len_train, kde = True)\n",
    "print('The mean question length in the training set is {:.2f} words.'.format(np.mean(list_len_train)))\n",
    "print('The standard deviation of the question length in the training set is {:.2f} words.'.format(np.std(list_len_train)))"
   ]
  },
  {
   "cell_type": "markdown",
   "metadata": {},
   "source": [
    "As can be seen, the mean question length is 12.8 and a vast majority of the questions are under 30 words. I am therefore padding the sentences up to a length of 50 and truncating the rest"
   ]
  },
  {
   "cell_type": "code",
   "execution_count": 10,
   "metadata": {},
   "outputs": [],
   "source": [
    "# Pad sequences with 0s so that each sequence is of the same length respresented by the max_length\n",
    "max_length = 50\n",
    "padding_type = 'pre'\n",
    "trunc_type = 'pre'\n",
    "\n",
    "train_sequences_padded = pad_sequences(train_sequences, maxlen=max_length, padding=padding_type, truncating=trunc_type)\n",
    "validation_sequences_padded = pad_sequences(validation_sequences, maxlen=max_length, padding=padding_type, truncating=trunc_type)\n",
    "test_sequences_padded = pad_sequences(test_sequences, maxlen=max_length, padding=padding_type, truncating=trunc_type)"
   ]
  },
  {
   "cell_type": "code",
   "execution_count": 11,
   "metadata": {},
   "outputs": [],
   "source": [
    "# Convert data to tensors\n",
    "\n",
    "training_dataset = torch.utils.data.TensorDataset(torch.LongTensor(np.array(train_sequences_padded)), torch.FloatTensor(np.array(train['target'])))\n",
    "validation_dataset = torch.utils.data.TensorDataset(torch.LongTensor(np.array(validation_sequences_padded)), torch.FloatTensor(np.array(validation['target'])))"
   ]
  },
  {
   "cell_type": "code",
   "execution_count": 12,
   "metadata": {},
   "outputs": [
    {
     "data": {
      "text/plain": [
       "(tensor([    0,     0,     0,     0,     0,     0,     0,     0,     0,     0,\n",
       "             0,     0,     0,     0,     0,     0,     0,     0,     0,     0,\n",
       "             0,     0,     0,     0,     0,     0,     0,     0,     0,     0,\n",
       "             0,     0,     0,     0,     0,     0,     0,     0,    16,    11,\n",
       "         11420,   225,  5179,    22,    18,  2128,  1404,    59,     8,   342]),\n",
       " tensor(0.))"
      ]
     },
     "execution_count": 12,
     "metadata": {},
     "output_type": "execute_result"
    }
   ],
   "source": [
    "training_dataset[1]"
   ]
  },
  {
   "cell_type": "markdown",
   "metadata": {},
   "source": [
    "## Embeddings\n",
    "As a start, the 'glove.6B.50d' embedding is used.\n",
    "\n",
    "Also, you can use 'torchtext.vocab.GloVe(name='840B', dim=300)' (see [torchtext package](https://torchtext.readthedocs.io/en/latest/vocab.html#vocab) )"
   ]
  },
  {
   "cell_type": "code",
   "execution_count": 13,
   "metadata": {},
   "outputs": [],
   "source": [
    "def load_embeddings(embeddings_File, embeddings_dim):\n",
    "    print('Loading word embeddings...')\n",
    "    embeddings_index = {}\n",
    "    with open(embeddings_File,'r', encoding = 'utf8') as f:\n",
    "        for line in f:\n",
    "            values = line.split();\n",
    "            word = ''.join(values[:-1*embeddings_dim]);\n",
    "            coefs = np.asarray(values[-1*embeddings_dim:], dtype='float32');\n",
    "            embeddings_index[word] = coefs;\n",
    "\n",
    "    embeddings_matrix = np.zeros((vocab_size+1, embeddings_dim));\n",
    "    for word, i in word_index.items():\n",
    "        embedding_vector = embeddings_index.get(word);\n",
    "        if embedding_vector is not None:\n",
    "            embeddings_matrix[i] = embedding_vector;  \n",
    "            \n",
    "    print('Finished loading word embeddings. {:.0f} words loaded.'.format(len(embeddings_matrix)))\n",
    "    return embeddings_matrix"
   ]
  },
  {
   "cell_type": "code",
   "execution_count": 14,
   "metadata": {},
   "outputs": [
    {
     "name": "stdout",
     "output_type": "stream",
     "text": [
      "Loading word embeddings...\n",
      "Finished loading word embeddings. 119961 words loaded.\n"
     ]
    }
   ],
   "source": [
    "embeddings_File = './data/embeddings/glove.840B.300d/glove.840B.300d.txt'\n",
    "embeddings_dim = 300\n",
    "\n",
    "embeddings_matrix = load_embeddings(embeddings_File, embeddings_dim)"
   ]
  },
  {
   "cell_type": "markdown",
   "metadata": {},
   "source": [
    "Todo:\n",
    "\n",
    "Explore the data. Find for example the longest quora question.\n",
    "\n",
    "Pad the data with empty or null words\n",
    "\n",
    "Embed the data\n",
    "\n",
    "Create an RNN network to train the data\n",
    "\n",
    "Look at the results and iterate"
   ]
  },
  {
   "cell_type": "code",
   "execution_count": 82,
   "metadata": {},
   "outputs": [],
   "source": [
    "def weights_init(m):\n",
    "    if isinstance(m, nn.Linear):\n",
    "        nn.init.xavier_uniform_(m.weight.data)\n",
    "        nn.init.constant_(m.bias,0)\n",
    "        \n",
    "class Net(nn.Module):\n",
    "    def __init__(self, embedding_dim, seq_length, n_hidden_1, n_hidden_2, D_out, p=0.0):\n",
    "        super().__init__()\n",
    "        \n",
    "        # Initialize word embeddings layer using weights\n",
    "        weight = torch.FloatTensor(embeddings_matrix)\n",
    "        self.seq_length = seq_length\n",
    "        self.embeds = nn.Embedding.from_pretrained(weight)\n",
    "        #self.embeds_dropout = nn.Dropout2d(p = 0.1)\n",
    "        \n",
    "        self.lstm1 = nn.LSTM(embedding_dim, n_hidden_1, bidirectional = False, batch_first = True)\n",
    "        \n",
    "        # self.maxpool2d = nn.AdaptiveMaxPool2d(output_size = (1,n_hidden_1*2))\n",
    "        \n",
    "        self.fc1 = nn.Linear(n_hidden_1, n_hidden_2)\n",
    "        # self.drop1 = nn.Dropout(p=p)\n",
    "        self.relu1 = nn.ReLU()\n",
    "        \n",
    "        self.fc2 = nn.Linear(n_hidden_2, D_out)\n",
    "        self.out_act = nn.Sigmoid()\n",
    "        \n",
    "    def forward(self, x):\n",
    "        # Embedding layer\n",
    "        embeds_out = self.embeds(x)\n",
    "        #embeds_out = self.embeds_dropout(embeds_out)\n",
    "        #print(embeds_out.size())\n",
    "        \n",
    "        # LSTM layer\n",
    "        lstm_out, (h, c) = self.lstm1(embeds_out)\n",
    "        #print(lstm_out.size())\n",
    "        #max_pool_out = self.maxpool2d(lstm_out)\n",
    "        #print(max_pool_out.size())\n",
    "        \n",
    "        \n",
    "        \n",
    "        # Fully connected layer\n",
    "        \n",
    "        # Using the output of the last neuron in the LSTM layer\n",
    "        fc1_out = self.fc1(h)\n",
    "        fc1_out = self.drop1(fc1_out)\n",
    "        fc1_out = self.relu1(fc1_out)\n",
    "        #print(fc1_out.size())\n",
    "        \n",
    "        # Output layer\n",
    "        y = self.out_act(self.fc2(fc1_out))\n",
    "        #print(y.size())\n",
    "        \n",
    "        # Squeeze to remove extra dimensions of size 1\n",
    "        return torch.squeeze(y)\n",
    "    \n"
   ]
  },
  {
   "cell_type": "code",
   "execution_count": 83,
   "metadata": {},
   "outputs": [],
   "source": [
    "def train_model(data_set, model, criterion, train_loader, validation_loader, optimizer, epochs=10):\n",
    "    model.train()\n",
    "    loss_accuracy = {'training_loss':[], 'validation_accuracy':[], 'validation_precision':[], 'validation_recall':[]}\n",
    "    \n",
    "    for epoch in range(epochs):\n",
    "        #clear_output(wait=True)\n",
    "        print(\"Epoch {} / {}\\n=============\".format(epoch+1, epochs))\n",
    "            \n",
    "\n",
    "        \n",
    "        train_correct = 0\n",
    "        for x, y in train_loader:\n",
    "            optimizer.zero_grad()\n",
    "            ## Forward pass\n",
    "            yhat = model(x)\n",
    "            ## Compute loss\n",
    "            loss = criterion(yhat, y)\n",
    "            ## Compute gradient in backward pass\n",
    "            loss.backward()\n",
    "            ## Update weights\n",
    "            optimizer.step()\n",
    "            \n",
    "            yhat = np.where(yhat.detach().numpy() > 0.5, 1, 0)\n",
    "            train_correct += (yhat == y.numpy()).sum()\n",
    "            \n",
    "            loss_accuracy['training_loss'].append(loss.item())\n",
    "         \n",
    "        ## Compute validation accuracy\n",
    "        model.eval()\n",
    "        correct = 0\n",
    "        for x, y in validation_loader:\n",
    "            yhat = net(x)           \n",
    "            yhat = np.where(yhat.detach().numpy() > 0.5, 1, 0)\n",
    "            correct = (yhat == y.detach().numpy()).sum()                        \n",
    "            accuracy = 100 * (correct / validation_loader.batch_size)\n",
    "            \n",
    "        loss_accuracy['validation_accuracy'].append(accuracy)\n",
    "        \n",
    "        ## Print training loss and accuracy, and validation accuracy\n",
    "        train_acc = 100 * train_correct / len(train_loader.dataset)\n",
    "        print(\"Training loss: {} | Training accuracy: {:.2f}%\\nValidation accuracy: {:.2f}%\".format(loss.item(), train_acc, accuracy))\n",
    "        \n",
    "        model.train()\n",
    "        \n",
    "        ## Add precision and recall\n",
    "        \n",
    "    print(\"Training complete!\")\n",
    "                \n",
    "    return loss_accuracy"
   ]
  },
  {
   "cell_type": "code",
   "execution_count": 84,
   "metadata": {},
   "outputs": [
    {
     "name": "stdout",
     "output_type": "stream",
     "text": [
      "Epoch 1 / 10\n",
      "=============\n",
      "Training loss: 0.27239468693733215 | Training accuracy: 89.87%\n",
      "Validation accuracy: 93.30%\n",
      "Epoch 2 / 10\n",
      "=============\n",
      "Training loss: 0.24540026485919952 | Training accuracy: 93.83%\n",
      "Validation accuracy: 93.30%\n",
      "Epoch 3 / 10\n",
      "=============\n",
      "Training loss: 0.20724894106388092 | Training accuracy: 93.86%\n",
      "Validation accuracy: 93.36%\n",
      "Epoch 4 / 10\n",
      "=============\n",
      "Training loss: 0.1385844647884369 | Training accuracy: 94.04%\n",
      "Validation accuracy: 93.86%\n",
      "Epoch 5 / 10\n",
      "=============\n",
      "Training loss: 0.15028907358646393 | Training accuracy: 94.34%\n",
      "Validation accuracy: 94.28%\n",
      "Epoch 6 / 10\n",
      "=============\n",
      "Training loss: 0.13253363966941833 | Training accuracy: 94.62%\n",
      "Validation accuracy: 94.58%\n",
      "Epoch 7 / 10\n",
      "=============\n",
      "Training loss: 0.12069886922836304 | Training accuracy: 94.76%\n",
      "Validation accuracy: 94.84%\n",
      "Epoch 8 / 10\n",
      "=============\n",
      "Training loss: 0.12463315576314926 | Training accuracy: 94.88%\n",
      "Validation accuracy: 94.72%\n",
      "Epoch 9 / 10\n",
      "=============\n",
      "Training loss: 0.12867160141468048 | Training accuracy: 95.00%\n",
      "Validation accuracy: 94.80%\n",
      "Epoch 10 / 10\n",
      "=============\n",
      "Training loss: 0.1177116185426712 | Training accuracy: 95.07%\n",
      "Validation accuracy: 94.86%\n",
      "Training complete!\n"
     ]
    },
    {
     "data": {
      "text/plain": [
       "Text(0, 0.5, 'Accuracy [%]')"
      ]
     },
     "execution_count": 84,
     "metadata": {},
     "output_type": "execute_result"
    },
    {
     "data": {
      "image/png": "[encoded data removed]",
      "text/plain": [
       "<Figure size 432x288 with 1 Axes>"
      ]
     },
     "metadata": {
      "needs_background": "light"
     },
     "output_type": "display_data"
    },
    {
     "data": {
      "image/png": "[encoded data removed]",
      "text/plain": [
       "<Figure size 432x288 with 1 Axes>"
      ]
     },
     "metadata": {
      "needs_background": "light"
     },
     "output_type": "display_data"
    }
   ],
   "source": [
    "epochs = 10\n",
    "learning_rate = 0.0005\n",
    "\n",
    "## Network dimensions\n",
    "D_in = embeddings_dim\n",
    "n_hidden_1 = 128\n",
    "n_hidden_2 = 32\n",
    "D_out = 1\n",
    "batch_size = 2048\n",
    "reg_lambda = 0.0005\n",
    "momentum_coef = 0.9\n",
    "dropout_percent = 0.0\n",
    "\n",
    "## Load data\n",
    "train_loader = torch.utils.data.DataLoader(dataset=training_dataset, batch_size=batch_size, shuffle=True)\n",
    "validation_loader = torch.utils.data.DataLoader(dataset=validation_dataset, batch_size=len(validation_dataset), shuffle=False)\n",
    "\n",
    "## Initialize model\n",
    "net = Net(D_in, max_length, n_hidden_1,n_hidden_2, D_out, p = dropout_percent)\n",
    "net.apply(weights_init)\n",
    "\n",
    "\n",
    "optimizer = torch.optim.Adam(net.parameters(), lr=learning_rate, weight_decay = reg_lambda)\n",
    "criterion = nn.BCELoss()\n",
    "\n",
    "## Train the model\n",
    "loss_accuracy = train_model(training_dataset, net, criterion, train_loader, validation_loader, optimizer, epochs=epochs)\n",
    "\n",
    "\n",
    "## Plots\n",
    "fig = plt.figure(1)\n",
    "plt.plot(loss_accuracy['training_loss'], color=\"red\")\n",
    "plt.title(\"Training Loss\")\n",
    "plt.xlabel(\"Iteration\")\n",
    "plt.ylabel(\"Loss [-]\")\n",
    "\n",
    "fig = plt.figure(2)\n",
    "plt.plot(loss_accuracy['validation_accuracy'], color=\"blue\")\n",
    "plt.title(\"Validation Accuracy\")\n",
    "plt.xlabel(\"Epoch\")\n",
    "plt.ylabel(\"Accuracy [%]\")"
   ]
  },
  {
   "cell_type": "code",
   "execution_count": 86,
   "metadata": {},
   "outputs": [
    {
     "name": "stdout",
     "output_type": "stream",
     "text": [
      "Epoch 1 / 10\n",
      "=============\n",
      "Training loss: 0.12321428209543228 | Training accuracy: 95.28%\n",
      "Validation accuracy: 94.66%\n",
      "Epoch 2 / 10\n",
      "=============\n",
      "Training loss: 0.10415437072515488 | Training accuracy: 95.50%\n",
      "Validation accuracy: 94.96%\n",
      "Epoch 3 / 10\n",
      "=============\n",
      "Training loss: 0.10843133181333542 | Training accuracy: 95.52%\n",
      "Validation accuracy: 94.96%\n",
      "Epoch 4 / 10\n",
      "=============\n",
      "Training loss: 0.10625521838665009 | Training accuracy: 95.53%\n",
      "Validation accuracy: 94.88%\n",
      "Epoch 5 / 10\n",
      "=============\n",
      "Training loss: 0.10747064650058746 | Training accuracy: 95.49%\n",
      "Validation accuracy: 94.94%\n",
      "Epoch 6 / 10\n",
      "=============\n",
      "Training loss: 0.10736681520938873 | Training accuracy: 95.62%\n",
      "Validation accuracy: 94.84%\n",
      "Epoch 7 / 10\n",
      "=============\n",
      "Training loss: 0.11677205562591553 | Training accuracy: 95.64%\n",
      "Validation accuracy: 94.80%\n",
      "Epoch 8 / 10\n",
      "=============\n",
      "Training loss: 0.09911634773015976 | Training accuracy: 95.66%\n",
      "Validation accuracy: 94.82%\n",
      "Epoch 9 / 10\n",
      "=============\n",
      "Training loss: 0.12704245746135712 | Training accuracy: 95.69%\n",
      "Validation accuracy: 94.76%\n",
      "Epoch 10 / 10\n",
      "=============\n",
      "Training loss: 0.11741974204778671 | Training accuracy: 95.68%\n",
      "Validation accuracy: 94.70%\n",
      "Training complete!\n"
     ]
    },
    {
     "data": {
      "text/plain": [
       "Text(0, 0.5, 'Accuracy [%]')"
      ]
     },
     "execution_count": 86,
     "metadata": {},
     "output_type": "execute_result"
    },
    {
     "data": {
      "image/png": "[encoded data removed]",
      "text/plain": [
       "<Figure size 432x288 with 1 Axes>"
      ]
     },
     "metadata": {
      "needs_background": "light"
     },
     "output_type": "display_data"
    },
    {
     "data": {
      "image/png": "[encoded data removed]",
      "text/plain": [
       "<Figure size 432x288 with 1 Axes>"
      ]
     },
     "metadata": {
      "needs_background": "light"
     },
     "output_type": "display_data"
    }
   ],
   "source": [
    "epochs = 10\n",
    "learning_rate = 0.0005\n",
    "optimizer = torch.optim.Adam(net.parameters(), lr=learning_rate, weight_decay = reg_lambda)\n",
    "loss_accuracy = train_model(training_dataset, net, criterion, train_loader, validation_loader, optimizer, epochs=epochs)\n",
    "\n",
    "## Plots\n",
    "fig = plt.figure(1)\n",
    "plt.plot(loss_accuracy['training_loss'], color=\"red\")\n",
    "plt.title(\"Training Loss\")\n",
    "plt.xlabel(\"Iteration\")\n",
    "plt.ylabel(\"Loss [-]\")\n",
    "\n",
    "fig = plt.figure(2)\n",
    "plt.plot(loss_accuracy['validation_accuracy'], color=\"blue\")\n",
    "plt.title(\"Validation Accuracy\")\n",
    "plt.xlabel(\"Epoch\")\n",
    "plt.ylabel(\"Accuracy [%]\")"
   ]
  },
  {
   "cell_type": "code",
   "execution_count": 2,
   "metadata": {},
   "outputs": [],
   "source": [
    "def Plot_Confusion_Matrix(con_mat):\n",
    "    \n",
    "    plt.title(\"Confusion Matrix\", fontsize=26)\n",
    "    sns.set(font_scale=2.5)\n",
    "    ax = sns.heatmap(con_mat, annot=True, fmt='g', annot_kws={\"size\":16}, xticklabels=[\"Negative\", \"Insincere\"], yticklabels=[\"Negative\", \"Insincere\"], \n",
    "               cmap=\"YlGnBu\")\n",
    "    ax.invert_yaxis()\n",
    "    ax.invert_xaxis()\n",
    "    plt.xlabel(\"Prediction\", fontsize=16)\n",
    "    plt.ylabel(\"True Label\", fontsize=16)\n",
    "    \n",
    "    # Adjust height of heatmap because of a bug in matplotlib\n",
    "    b, t = plt.ylim()\n",
    "    ax.set_ylim(b-0.5, t+0.5)"
   ]
  },
  {
   "cell_type": "code",
   "execution_count": 3,
   "metadata": {},
   "outputs": [
    {
     "ename": "NameError",
     "evalue": "name 'net' is not defined",
     "output_type": "error",
     "traceback": [
      "\u001b[0;31m---------------------------------------------------------------------------\u001b[0m",
      "\u001b[0;31mNameError\u001b[0m                                 Traceback (most recent call last)",
      "\u001b[0;32m<ipython-input-3-1d0f6ea05ab7>\u001b[0m in \u001b[0;36m<module>\u001b[0;34m\u001b[0m\n\u001b[0;32m----> 1\u001b[0;31m \u001b[0mnet\u001b[0m\u001b[0;34m.\u001b[0m\u001b[0meval\u001b[0m\u001b[0;34m(\u001b[0m\u001b[0;34m)\u001b[0m\u001b[0;34m\u001b[0m\u001b[0;34m\u001b[0m\u001b[0m\n\u001b[0m\u001b[1;32m      2\u001b[0m \u001b[0;34m\u001b[0m\u001b[0m\n\u001b[1;32m      3\u001b[0m \u001b[0mx\u001b[0m \u001b[0;34m=\u001b[0m \u001b[0mVariable\u001b[0m\u001b[0;34m(\u001b[0m\u001b[0mtorch\u001b[0m\u001b[0;34m.\u001b[0m\u001b[0mLongTensor\u001b[0m\u001b[0;34m(\u001b[0m\u001b[0mnp\u001b[0m\u001b[0;34m.\u001b[0m\u001b[0marray\u001b[0m\u001b[0;34m(\u001b[0m\u001b[0mvalidation_sequences_padded\u001b[0m\u001b[0;34m)\u001b[0m\u001b[0;34m)\u001b[0m\u001b[0;34m)\u001b[0m\u001b[0;34m\u001b[0m\u001b[0;34m\u001b[0m\u001b[0m\n\u001b[1;32m      4\u001b[0m \u001b[0;34m\u001b[0m\u001b[0m\n\u001b[1;32m      5\u001b[0m \u001b[0mpred\u001b[0m \u001b[0;34m=\u001b[0m \u001b[0mnet\u001b[0m\u001b[0;34m(\u001b[0m\u001b[0mx\u001b[0m\u001b[0;34m)\u001b[0m\u001b[0;34m\u001b[0m\u001b[0;34m\u001b[0m\u001b[0m\n",
      "\u001b[0;31mNameError\u001b[0m: name 'net' is not defined"
     ]
    }
   ],
   "source": [
    "net.eval()\n",
    "\n",
    "x = Variable(torch.LongTensor(np.array(validation_sequences_padded)))\n",
    "\n",
    "pred = net(x)\n",
    "predicted_labels = np.where(pred > 0.5, 1, 0)\n",
    "testing_labels = np.array(validation['target'])\n",
    "accuracy = accuracy_score(testing_labels, predicted_labels)\n",
    "precision = precision_score(testing_labels, predicted_labels)\n",
    "recall = recall_score(testing_labels, predicted_labels)\n",
    "f1 = f1_score(testing_labels, predicted_labels)\n",
    "\n",
    "print('The validation accuracy is {:.2f}%'.format(accuracy*100))\n",
    "print('The validation precision is {:.2f}'.format(precision))\n",
    "print('The validation recall is {:.2f}'.format(recall))\n",
    "print('The validation f1 score is {:.2f}'.format(f1))"
   ]
  },
  {
   "cell_type": "code",
   "execution_count": 1,
   "metadata": {},
   "outputs": [
    {
     "ename": "NameError",
     "evalue": "name 'confusion_matrix' is not defined",
     "output_type": "error",
     "traceback": [
      "\u001b[0;31m---------------------------------------------------------------------------\u001b[0m",
      "\u001b[0;31mNameError\u001b[0m                                 Traceback (most recent call last)",
      "\u001b[0;32m<ipython-input-1-46b58e756459>\u001b[0m in \u001b[0;36m<module>\u001b[0;34m\u001b[0m\n\u001b[0;32m----> 1\u001b[0;31m \u001b[0mcon_mat\u001b[0m \u001b[0;34m=\u001b[0m \u001b[0mconfusion_matrix\u001b[0m\u001b[0;34m(\u001b[0m\u001b[0mtesting_labels\u001b[0m\u001b[0;34m,\u001b[0m \u001b[0mpredicted_labels\u001b[0m\u001b[0;34m)\u001b[0m\u001b[0;34m\u001b[0m\u001b[0;34m\u001b[0m\u001b[0m\n\u001b[0m\u001b[1;32m      2\u001b[0m \u001b[0;31m#con_mat = confusion_matrix([0, 1, 1, 0], [1, 1, 1, 0])\u001b[0m\u001b[0;34m\u001b[0m\u001b[0;34m\u001b[0m\u001b[0;34m\u001b[0m\u001b[0m\n\u001b[1;32m      3\u001b[0m \u001b[0mPlot_Confusion_Matrix\u001b[0m\u001b[0;34m(\u001b[0m\u001b[0mcon_mat\u001b[0m\u001b[0;34m)\u001b[0m\u001b[0;34m\u001b[0m\u001b[0;34m\u001b[0m\u001b[0m\n\u001b[1;32m      4\u001b[0m \u001b[0mprint\u001b[0m\u001b[0;34m(\u001b[0m\u001b[0mcon_mat\u001b[0m\u001b[0;34m)\u001b[0m\u001b[0;34m\u001b[0m\u001b[0;34m\u001b[0m\u001b[0m\n",
      "\u001b[0;31mNameError\u001b[0m: name 'confusion_matrix' is not defined"
     ]
    }
   ],
   "source": [
    "con_mat = confusion_matrix(testing_labels, predicted_labels)\n",
    "#con_mat = confusion_matrix([0, 1, 1, 0], [1, 1, 1, 0])\n",
    "Plot_Confusion_Matrix(con_mat)\n",
    "print(con_mat)"
   ]
  },
  {
   "cell_type": "code",
   "execution_count": null,
   "metadata": {},
   "outputs": [],
   "source": [
    "print(train['question_text'].iloc[7291])\n",
    "print(train_sequences_padded[7291])\n",
    "#print(word_index['adventurous'])\n",
    "print(train['target'][7291])"
   ]
  },
  {
   "cell_type": "code",
   "execution_count": null,
   "metadata": {},
   "outputs": [],
   "source": [
    "#weight = torch.FloatTensor(embeddings_matrix)\n",
    "#embeds = nn.Embedding.from_pretrained(weight)\n",
    "#x = torch.LongTensor(train_sequences_padded[0])"
   ]
  },
  {
   "cell_type": "code",
   "execution_count": null,
   "metadata": {},
   "outputs": [],
   "source": [
    "#print(embeds(x)[3])"
   ]
  },
  {
   "cell_type": "code",
   "execution_count": null,
   "metadata": {},
   "outputs": [],
   "source": [
    "#embeddings_matrix[834]"
   ]
  },
  {
   "cell_type": "code",
   "execution_count": 3,
   "metadata": {},
   "outputs": [
    {
     "data": {
      "text/plain": [
       "array([5, 1, 2])"
      ]
     },
     "execution_count": 3,
     "metadata": {},
     "output_type": "execute_result"
    }
   ],
   "source": [
    "np.array([5,1,2])"
   ]
  },
  {
   "cell_type": "code",
   "execution_count": null,
   "metadata": {},
   "outputs": [],
   "source": []
  }
 ],
 "metadata": {
  "kernelspec": {
   "display_name": "Python 3",
   "language": "python",
   "name": "python3"
  },
  "language_info": {
   "codemirror_mode": {
    "name": "ipython",
    "version": 3
   },
   "file_extension": ".py",
   "mimetype": "text/x-python",
   "name": "python",
   "nbconvert_exporter": "python",
   "pygments_lexer": "ipython3",
   "version": "3.7.9"
  }
 },
 "nbformat": 4,
 "nbformat_minor": 2
}
